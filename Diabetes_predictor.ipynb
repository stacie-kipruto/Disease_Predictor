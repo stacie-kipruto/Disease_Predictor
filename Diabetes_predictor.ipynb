{
  "nbformat": 4,
  "nbformat_minor": 0,
  "metadata": {
    "colab": {
      "provenance": []
    },
    "kernelspec": {
      "name": "python3",
      "display_name": "Python 3"
    },
    "language_info": {
      "name": "python"
    }
  },
  "cells": [
    {
      "cell_type": "code",
      "execution_count": null,
      "metadata": {
        "id": "ohzXbVhHK-fI"
      },
      "outputs": [],
      "source": [
        "import numpy as np\n",
        "import pandas as pd\n",
        "import io\n",
        "from sklearn.model_selection import train_test_split\n",
        "from sklearn import svm #support vector model\n",
        "from sklearn.metrics import accuracy_score"
      ]
    },
    {
      "cell_type": "code",
      "source": [
        "from google.colab import drive\n",
        "drive.mount('/content/drive')"
      ],
      "metadata": {
        "id": "r2oLiXfwQA16"
      },
      "execution_count": null,
      "outputs": []
    },
    {
      "cell_type": "markdown",
      "source": [
        "DIABETES DATA SET\n"
      ],
      "metadata": {
        "id": "sNUpn5uTN16R"
      }
    },
    {
      "cell_type": "code",
      "source": [
        "diabetes_data = pd.read_csv('/content/drive/MyDrive/Data/diabetes.csv')\n",
        "diabetes_data.head()"
      ],
      "metadata": {
        "id": "S7rWs9xpN5Ul"
      },
      "execution_count": null,
      "outputs": []
    },
    {
      "cell_type": "code",
      "source": [
        "diabetes_data.shape"
      ],
      "metadata": {
        "id": "evD9iSbKO7hu"
      },
      "execution_count": null,
      "outputs": []
    },
    {
      "cell_type": "code",
      "source": [
        "diabetes_data.describe()"
      ],
      "metadata": {
        "id": "-jj9jh0vTAFI"
      },
      "execution_count": null,
      "outputs": []
    },
    {
      "cell_type": "code",
      "source": [
        "diabetes_data.value_counts()"
      ],
      "metadata": {
        "id": "Bq1zksHLTE70"
      },
      "execution_count": null,
      "outputs": []
    },
    {
      "cell_type": "code",
      "source": [
        "diabetes_data['Outcome'].value_counts()"
      ],
      "metadata": {
        "id": "W4EkZFCNU4LQ"
      },
      "execution_count": null,
      "outputs": []
    },
    {
      "cell_type": "code",
      "source": [
        "# 0 = Those without Diabetes\n",
        "# 1 = Those with Diabetes"
      ],
      "metadata": {
        "id": "mF9HI61ZVLxy"
      },
      "execution_count": null,
      "outputs": []
    },
    {
      "cell_type": "code",
      "source": [
        "diabetes_data.groupby('Outcome').mean()"
      ],
      "metadata": {
        "id": "GHzQ_IbcVqzV"
      },
      "execution_count": null,
      "outputs": []
    },
    {
      "cell_type": "markdown",
      "source": [
        "The model will check the values and categorize according to the mean values as seen above"
      ],
      "metadata": {
        "id": "Yi_WAPmhcLQe"
      }
    },
    {
      "cell_type": "markdown",
      "source": [
        "To separate the data labels into training and testing (X,Y) since we have decided to use outcomes...."
      ],
      "metadata": {
        "id": "qavH2VDkdNcE"
      }
    },
    {
      "cell_type": "code",
      "source": [
        "X = diabetes_data.drop(columns = 'Outcome', axis =1) #columns are on axis 1, rows are on axis 2\n",
        "Y = diabetes_data['Outcome']"
      ],
      "metadata": {
        "id": "vIx2yP4udWSr"
      },
      "execution_count": null,
      "outputs": []
    },
    {
      "cell_type": "code",
      "source": [
        "print(X)"
      ],
      "metadata": {
        "id": "HLnjvKVkd2M-"
      },
      "execution_count": null,
      "outputs": []
    },
    {
      "cell_type": "code",
      "source": [
        "print(Y)"
      ],
      "metadata": {
        "id": "P7eCnJMPeGh9"
      },
      "execution_count": null,
      "outputs": []
    },
    {
      "cell_type": "markdown",
      "source": [
        "Standardize the data:\n",
        "- The data will fall on different values and standardization is done to get a range for the model to work on"
      ],
      "metadata": {
        "id": "ara_UbTOeQJF"
      }
    },
    {
      "cell_type": "code",
      "source": [
        "from sklearn.preprocessing import StandardScaler"
      ],
      "metadata": {
        "id": "x6WMyw8tfIAz"
      },
      "execution_count": null,
      "outputs": []
    },
    {
      "cell_type": "code",
      "source": [
        "scaler = StandardScaler()"
      ],
      "metadata": {
        "id": "ZqES87_8gH5a"
      },
      "execution_count": null,
      "outputs": []
    },
    {
      "cell_type": "code",
      "source": [
        "scaler.fit(X)"
      ],
      "metadata": {
        "id": "aG25p8LygQIl"
      },
      "execution_count": null,
      "outputs": []
    },
    {
      "cell_type": "code",
      "source": [
        "standardized_data = scaler.transform (X)\n",
        "print(standardized_data)"
      ],
      "metadata": {
        "id": "SxiLNhuagT4c"
      },
      "execution_count": null,
      "outputs": []
    },
    {
      "cell_type": "markdown",
      "source": [
        "To split the data into training and testing;"
      ],
      "metadata": {
        "id": "QZ4yt_6ag1zD"
      }
    },
    {
      "cell_type": "code",
      "source": [
        "X = standardized_data\n",
        "Y = diabetes_data['Outcome']"
      ],
      "metadata": {
        "id": "VT0XL-5wgiFH"
      },
      "execution_count": null,
      "outputs": []
    },
    {
      "cell_type": "code",
      "source": [
        "print(X)\n",
        "print(Y)"
      ],
      "metadata": {
        "id": "JBA9hd3XhYRy"
      },
      "execution_count": null,
      "outputs": []
    },
    {
      "cell_type": "code",
      "source": [
        "X_train, X_test, Y_train, Y_test = train_test_split(X,Y, test_size = 0.2, stratify = Y, random_state = 2)"
      ],
      "metadata": {
        "id": "Tru1vEgohazp"
      },
      "execution_count": null,
      "outputs": []
    },
    {
      "cell_type": "code",
      "source": [
        "print(X.shape, X_train.shape, X_test.shape)"
      ],
      "metadata": {
        "colab": {
          "base_uri": "https://localhost:8080/"
        },
        "id": "8kyLuVXwjNSo",
        "outputId": "32fa6146-479e-47e8-8d8d-53bd185afdec"
      },
      "execution_count": null,
      "outputs": [
        {
          "output_type": "stream",
          "name": "stdout",
          "text": [
            "(768, 8) (614, 8) (154, 8)\n"
          ]
        }
      ]
    },
    {
      "cell_type": "markdown",
      "source": [
        "TRAINING THE MODEL"
      ],
      "metadata": {
        "id": "QlKyO_OcjpU-"
      }
    },
    {
      "cell_type": "code",
      "source": [
        "classifier = svm.SVC(kernel = 'linear')"
      ],
      "metadata": {
        "id": "GP0IjV9Sjrpp"
      },
      "execution_count": null,
      "outputs": []
    },
    {
      "cell_type": "markdown",
      "source": [
        "Training the SVM model with X and Y train sets"
      ],
      "metadata": {
        "id": "0WgWLOjmj41D"
      }
    },
    {
      "cell_type": "code",
      "source": [
        "classifier.fit(X_train, Y_train)"
      ],
      "metadata": {
        "colab": {
          "base_uri": "https://localhost:8080/"
        },
        "id": "xG2rjN4g8D1n",
        "outputId": "66856db5-96bf-47a2-b28b-f9316ddb7186"
      },
      "execution_count": null,
      "outputs": [
        {
          "output_type": "execute_result",
          "data": {
            "text/plain": [
              "SVC(kernel='linear')"
            ]
          },
          "metadata": {},
          "execution_count": 29
        }
      ]
    },
    {
      "cell_type": "markdown",
      "source": [
        "Evaluating the model - Understanding the model's perfomance, strengths, weaknesses and accuracy"
      ],
      "metadata": {
        "id": "JaHur7O285sq"
      }
    },
    {
      "cell_type": "markdown",
      "source": [
        "Accuracy score on training data:"
      ],
      "metadata": {
        "id": "9GKXD9p79G9K"
      }
    },
    {
      "cell_type": "code",
      "source": [
        "X_train_prediction = classifier.predict(X_train)\n",
        "training_data_accuracy = accuracy_score(X_train_prediction, Y_train)"
      ],
      "metadata": {
        "id": "UUP5cdoO9KVv"
      },
      "execution_count": null,
      "outputs": []
    },
    {
      "cell_type": "code",
      "source": [
        "print('Accuracy score of the Training data is: ',training_data_accuracy)"
      ],
      "metadata": {
        "colab": {
          "base_uri": "https://localhost:8080/"
        },
        "id": "QxWPchnf-Iqv",
        "outputId": "b0335a37-aa7e-4c9b-e6dc-ad4f116660e0"
      },
      "execution_count": null,
      "outputs": [
        {
          "output_type": "stream",
          "name": "stdout",
          "text": [
            "Accuracy score of the Training data is:  0.7866449511400652\n"
          ]
        }
      ]
    },
    {
      "cell_type": "code",
      "source": [
        "# accuracy score on the test data\n",
        "X_test_prediction = classifier.predict(X_test)\n",
        "test_data_accuracy = accuracy_score(X_test_prediction, Y_test)"
      ],
      "metadata": {
        "id": "_YqbOXAD-cH6"
      },
      "execution_count": null,
      "outputs": []
    },
    {
      "cell_type": "code",
      "source": [
        "print('Accuracy score of the test data : ', test_data_accuracy)"
      ],
      "metadata": {
        "colab": {
          "base_uri": "https://localhost:8080/"
        },
        "id": "NZ50tVJA_usf",
        "outputId": "0af18168-8552-444c-d63d-7374058d8c94"
      },
      "execution_count": null,
      "outputs": [
        {
          "output_type": "stream",
          "name": "stdout",
          "text": [
            "Accuracy score of the test data :  0.7727272727272727\n"
          ]
        }
      ]
    },
    {
      "cell_type": "markdown",
      "source": [
        "Testing the Predictive System:"
      ],
      "metadata": {
        "id": "0ZAb-qb6BP7t"
      }
    },
    {
      "cell_type": "code",
      "source": [
        "input = input(\"This patient is diabetic: \")"
      ],
      "metadata": {
        "id": "11kqCveYBQnl",
        "colab": {
          "base_uri": "https://localhost:8080/"
        },
        "outputId": "7c4f0c46-a690-42ab-eb72-47d1db4b70cb"
      },
      "execution_count": null,
      "outputs": [
        {
          "name": "stdout",
          "output_type": "stream",
          "text": [
            "What is your name: Stacey\n"
          ]
        }
      ]
    },
    {
      "cell_type": "code",
      "source": [
        "input_data = (5,166,72,19,175,25.8,0.587,51)\n"
      ],
      "metadata": {
        "id": "Ou1wOr9hKvvp"
      },
      "execution_count": null,
      "outputs": []
    }
  ]
}